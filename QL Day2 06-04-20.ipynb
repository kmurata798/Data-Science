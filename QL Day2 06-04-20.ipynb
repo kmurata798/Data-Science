{
 "cells": [
  {
   "cell_type": "code",
   "execution_count": 6,
   "metadata": {},
   "outputs": [
    {
     "name": "stdout",
     "output_type": "stream",
     "text": [
      "Radius: 2\n",
      "Circumference is 12.57\n"
     ]
    }
   ],
   "source": [
    "import math\n",
    "pi = math.pi\n",
    "\n",
    "# Find Circumference of Circle\n",
    "radius = float(input(\"Radius: \"))\n",
    "circumference = 2*pi*radius\n",
    "\n",
    "print(\"Circumference is %.2f\" % circumference) "
   ]
  },
  {
   "cell_type": "code",
   "execution_count": 3,
   "metadata": {},
   "outputs": [
    {
     "name": "stdout",
     "output_type": "stream",
     "text": [
      "Radian: 10\n",
      "Surface Area is  125.66370614359172\n"
     ]
    }
   ],
   "source": [
    "#Find the Area of a Sphere\n",
    "\n",
    "radian = float(input(\"Radian: \"))\n",
    "s_area = 4*pi*radian\n",
    "\n",
    "print(\"Surface Area is \", s_area)"
   ]
  },
  {
   "cell_type": "code",
   "execution_count": 5,
   "metadata": {},
   "outputs": [
    {
     "name": "stdout",
     "output_type": "stream",
     "text": [
      "Height: 10\n",
      "The first base: 2\n",
      "The second base: 2\n",
      "Area is  20.0\n"
     ]
    }
   ],
   "source": [
    "#Find the Area of a Trapezoid\n",
    "\n",
    "height = float(input(\"Height: \"))\n",
    "base1 = float(input(\"The first base: \"))\n",
    "base2 = float(input( \"The second base: \"))\n",
    "\n",
    "area = ((base1+base2)/2)*height\n",
    "\n",
    "print(\"Area is \", area)"
   ]
  },
  {
   "cell_type": "code",
   "execution_count": null,
   "metadata": {},
   "outputs": [],
   "source": []
  }
 ],
 "metadata": {
  "kernelspec": {
   "display_name": "Python 3",
   "language": "python",
   "name": "python3"
  },
  "language_info": {
   "codemirror_mode": {
    "name": "ipython",
    "version": 3
   },
   "file_extension": ".py",
   "mimetype": "text/x-python",
   "name": "python",
   "nbconvert_exporter": "python",
   "pygments_lexer": "ipython3",
   "version": "3.7.6"
  }
 },
 "nbformat": 4,
 "nbformat_minor": 4
}
